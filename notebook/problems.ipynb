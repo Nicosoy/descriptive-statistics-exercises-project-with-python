{
    "cells": [
        {
            "cell_type": "markdown",
            "id": "ac622319",
            "metadata": {},
            "source": [
                "# Descriptive statistics problems"
            ]
        },
        {
            "cell_type": "markdown",
            "id": "aa8993e4",
            "metadata": {},
            "source": [
                "### Exercise 1"
            ]
        },
        {
            "cell_type": "markdown",
            "id": "5e0ab0d5",
            "metadata": {},
            "source": [
                "We will use Numpy to obtain information to describe statistically.\n",
                "\n",
                "- Generate an array of 100 elements following a normal distribution.\n",
                "- Generate an array of 100 elements following a chi-square distribution with 3 degrees of freedom.\n",
                "- Calculate the main metrics and statistical measures that best describe the two vectors."
            ]
        },
        {
            "cell_type": "code",
            "execution_count": 3,
            "id": "34720ab6",
            "metadata": {},
            "outputs": [
                {
                    "name": "stdout",
                    "output_type": "stream",
                    "text": [
                        " Esta son los principales calculos estadisticos para la distribución normal\n",
                        "Esta es la media de una distribución normal: -0.035844278282867376\n",
                        "Esta es la mediana de una distribución normal: -0.12062048468972425\n",
                        "Esta es la varianza de una distribución normal: 0.8076674043932708\n",
                        "Esta es la desviacion estandar de una distribución normal: 0.8987031792495622\n",
                        " Esta son los principales calculos estadisticos para la distribución CHI-SQUARE\n",
                        "Esta es la media de una distribución CHI-SQUARE: 3.2336682655714593\n",
                        "Esta es la mediana de una distribución CHI-SQUARE: 2.307787774618558\n",
                        "Esta es la varianza de una distribución CHI-SQUARE: 6.800785860037674\n",
                        "Esta es la desviacion estandar de una distribución CHI-SQUARE: 2.6078316395115837\n"
                    ]
                }
            ],
            "source": [
                "# TODO\n",
                "import numpy as np\n",
                "#Hacemos un array de 100 elementos con distribucion normal (100 partes iguales. ) - PRIMER EJERCICIO\n",
                "media = 0\n",
                "desviacion = 1\n",
                "normal_distribution = np.random.normal(media, desviacion, 100)\n",
                "\n",
                "#Generamos un array de 100 elementos con distribucion chi-square con una desviacion de 3 grados.\n",
                "\n",
                "degrees_of_freedom = 3\n",
                "\n",
                "chi_distribution = np.random.chisquare(degrees_of_freedom, 100)\n",
                "\n",
                "#Ahora calculamos la media, mediana, varianza y desviacion estandar (std) - Distribucion normal\n",
                "media_normal = np.mean(normal_distribution)\n",
                "mediana_normal = np.median(normal_distribution)\n",
                "varianza_normal = np.var(normal_distribution)\n",
                "desv_normal = np.std(normal_distribution)\n",
                "\n",
                "#Ahora calculamos la media, mediana, varianza y desviacion estandar (std) - Distribucion CHI-SQUARE\n",
                "\n",
                "media_chi = np.mean(chi_distribution)\n",
                "mediana_chi = np.median(chi_distribution)\n",
                "varianza_chi = np.var(chi_distribution)\n",
                "desv_chi = np.std(chi_distribution)\n",
                "\n",
                "#Y lo imprimimos todo aqui:\n",
                "print(\" Esta son los principales calculos estadisticos para la distribución normal\")\n",
                "\n",
                "print(f\"Esta es la media de una distribución normal: {media_normal}\")\n",
                "print(f\"Esta es la mediana de una distribución normal: {mediana_normal}\")\n",
                "print(f\"Esta es la varianza de una distribución normal: {varianza_normal}\")\n",
                "print(f\"Esta es la desviacion estandar de una distribución normal: {desv_normal}\")\n",
                "\n",
                "\n",
                "print(\" Esta son los principales calculos estadisticos para la distribución CHI-SQUARE\")\n",
                "\n",
                "print(f\"Esta es la media de una distribución CHI-SQUARE: {media_chi}\")\n",
                "print(f\"Esta es la mediana de una distribución CHI-SQUARE: {mediana_chi}\")\n",
                "print(f\"Esta es la varianza de una distribución CHI-SQUARE: {varianza_chi}\")\n",
                "print(f\"Esta es la desviacion estandar de una distribución CHI-SQUARE: {desv_chi}\")\n",
                "\n"
            ]
        },
        {
            "cell_type": "markdown",
            "id": "46c70c3d",
            "metadata": {},
            "source": [
                "### Exercise 2\n",
                "\n",
                "Write a Python program to calculate the standard deviation of the following data:\n",
                "\n",
                "```py\n",
                "data = [4, 2, 5, 8, 6]\n",
                "```"
            ]
        },
        {
            "cell_type": "code",
            "execution_count": 4,
            "id": "d590308e",
            "metadata": {},
            "outputs": [
                {
                    "name": "stdout",
                    "output_type": "stream",
                    "text": [
                        "2.0\n"
                    ]
                }
            ],
            "source": [
                "# TODO\n",
                "data = [4, 2, 5, 8, 6]\n",
                "import numpy as np\n",
                "standard_deviation_data = np.std(data)\n",
                "\n",
                "print(standard_deviation_data)"
            ]
        }
    ],
    "metadata": {
        "interpreter": {
            "hash": "9248718ffe6ce6938b217e69dbcc175ea21f4c6b28a317e96c05334edae734bb"
        },
        "kernelspec": {
            "display_name": "Python 3.9.12 ('ML-BOOTCAMP')",
            "language": "python",
            "name": "python3"
        },
        "language_info": {
            "codemirror_mode": {
                "name": "ipython",
                "version": 3
            },
            "file_extension": ".py",
            "mimetype": "text/x-python",
            "name": "python",
            "nbconvert_exporter": "python",
            "pygments_lexer": "ipython3",
            "version": "3.11.4"
        }
    },
    "nbformat": 4,
    "nbformat_minor": 5
}
